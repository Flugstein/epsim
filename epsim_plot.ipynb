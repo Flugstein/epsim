{
 "cells": [
  {
   "source": [
    "# Epsim execution / plotting"
   ],
   "cell_type": "markdown",
   "metadata": {}
  },
  {
   "cell_type": "code",
   "execution_count": null,
   "metadata": {},
   "outputs": [],
   "source": [
    "import time\n",
    "import numpy as np\n",
    "import matplotlib.pyplot as plt\n",
    "import pickle\n",
    "import itertools\n",
    "from pathlib import Path\n",
    "from gengraph import EpsimGraph\n",
    "from epsim import Epsim"
   ]
  },
  {
   "source": [
    "## Simple run\n",
    "for testing purposes"
   ],
   "cell_type": "markdown",
   "metadata": {}
  },
  {
   "cell_type": "code",
   "execution_count": null,
   "metadata": {
    "tags": []
   },
   "outputs": [],
   "source": [
    "# Simple run\n",
    "\n",
    "starttime = time.time()\n",
    "epsim_graph = EpsimGraph(k=100000, sigma_office=0.5, perc_split_classes=0.5)\n",
    "sim = Epsim()\n",
    "sim.init_from_dicts(epsim_graph.family_nbrs, epsim_graph.school_nbrs_standard,\n",
    "                    epsim_graph.school_nbrs_split, epsim_graph.office_nbrs)\n",
    "sim.run_sim(sim_iters=400, num_start_nodes=100, num_immunized_nodes=0, start_weekday=1, p_spread_family=0.37, p_spread_school=0.24, \n",
    "            p_spread_office=0.24, p_detect_child=0.2, p_detect_parent=0.5, p_testing=0.5, print_progress=True, export_csv=False)\n",
    "print(f\"runtime: {time.time() - starttime}s\")"
   ]
  },
  {
   "source": [
    "## Multiple runs per parameter combination\n",
    "for plotting an averaged diagram of multiple runs to avoid outliners"
   ],
   "cell_type": "markdown",
   "metadata": {}
  },
  {
   "cell_type": "code",
   "execution_count": null,
   "metadata": {},
   "outputs": [],
   "source": [
    "# Define simulation parameters\n",
    "sim_iters = 400\n",
    "\n",
    "def gen_graph_run_sim(k, sigma_office, num_start_nodes, num_immunized_nodes, start_weekday, perc_split_classes, p_spread_family, \n",
    "                      p_spread_school, p_spread_office, p_detect_child, p_detect_parent, p_testing):\n",
    "    epsim_graph = EpsimGraph(k, sigma_office, perc_split_classes)\n",
    "    sim = Epsim()\n",
    "    sim.init_from_dicts(epsim_graph.family_nbrs, epsim_graph.school_nbrs_standard, epsim_graph.school_nbrs_split, epsim_graph.office_nbrs)\n",
    "    return sim.run_sim(sim_iters, num_start_nodes, num_immunized_nodes, start_weekday, p_spread_family, p_spread_school, \n",
    "                       p_spread_office, p_detect_child, p_detect_parent, p_testing)\n",
    "\n",
    "\n",
    "sim_params = {\n",
    "    'k': [100000],\n",
    "    'sigma_office': [0.5],\n",
    "    'num_start_nodes': [100],\n",
    "    'num_immunized_nodes': [0],\n",
    "    'start_weekday': [0],\n",
    "    'perc_split_classes': [0.5],\n",
    "    'p_spread_family': [0.37],\n",
    "    'p_spread_school': [0.2, 0.22, 0.24],\n",
    "    'p_spread_office': [0.2, 0.22, 0.24],\n",
    "    'p_detect_child': [0.2],\n",
    "    'p_detect_parent': [0.5],\n",
    "    'p_testing': [0.5]\n",
    "}\n",
    "\n",
    "param_combis = list(itertools.product(*sim_params.values()))"
   ]
  },
  {
   "cell_type": "code",
   "execution_count": null,
   "metadata": {},
   "outputs": [],
   "source": [
    "# Execute simulations: multiple runs per parameter combination\n",
    "\n",
    "num_runs = 100\n",
    "runs_per_param_combi = {pc: [gen_graph_run_sim(*pc) for i in range(num_runs)] for pc in param_combis}\n",
    "pickle.dump(runs_per_param_combi, open(\"runs_per_param_combi.p\", 'wb'))"
   ]
  },
  {
   "cell_type": "code",
   "execution_count": null,
   "metadata": {},
   "outputs": [],
   "source": [
    "# Plot mean infections per round over all runs of one parameter combination to avoid outliners\n",
    "\n",
    "plt.rcParams.update({'font.size': 15})\n",
    "\n",
    "for pc, runs in runs_per_param_combi.items():\n",
    "    print(dict(zip(sim_params, pc)))\n",
    "    infecs_per_runs_per_rounds = zip(*runs)\n",
    "    mean_infecs_per_round = [np.mean(infecs_per_runs) for infecs_per_runs in infecs_per_runs_per_rounds]\n",
    "    fig, axs = plt.subplots(figsize=(20,13))\n",
    "    fig.patch.set_facecolor('xkcd:white')\n",
    "    axs.set_ylim(top=200000)\n",
    "    axs.set_xlim(0, sim_iters)\n",
    "    axs.plot(range(sim_iters), mean_infecs_per_round)\n",
    "    plt.annotate(max(mean_infecs_per_round), xy=(1, max(mean_infecs_per_round)), xytext=(8, 0),\n",
    "                 xycoords=('axes fraction', 'data'), textcoords='offset points')\n",
    "    axs.set_xlabel(\"Rounds\")\n",
    "    axs.set_ylabel(f\"Infected nodes (mean of {num_runs} runs)\")\n",
    "    plt.show()\n",
    "    print()"
   ]
  },
  {
   "cell_type": "code",
   "execution_count": null,
   "metadata": {},
   "outputs": [],
   "source": [
    "# Plot histogram of total infections for all runs of one parameter combination\n",
    "# This shows how much the total infections of different simulations with the same parameters deviatie due to the randomness of the simulation\n",
    "\n",
    "plt.rcParams.update({'font.size': 12})\n",
    "\n",
    "for pc, runs in runs_per_param_combi.items():\n",
    "    print(dict(zip(sim_params, pc)))\n",
    "    total_infec_per_run = [max(run) for run in runs]\n",
    "    fig, axs = plt.subplots(figsize=(10,6))\n",
    "    fig.patch.set_facecolor('xkcd:white')\n",
    "    axs.set_xlabel(\"Total infected nodes\")\n",
    "    axs.set_ylabel(\"# Runs\")\n",
    "    axs.hist(total_infec_per_run)\n",
    "    plt.show()\n",
    "    print()"
   ]
  },
  {
   "source": [
    "## Single run per parameter combination\n",
    "with csv export of detailed statistics per round (export path has to be modified)"
   ],
   "cell_type": "markdown",
   "metadata": {}
  },
  {
   "cell_type": "code",
   "execution_count": null,
   "metadata": {},
   "outputs": [],
   "source": [
    "# Run with various parameters\n",
    "\n",
    "sim_iters = 400\n",
    "num_start_nodes = 100\n",
    "num_immunized_nodes = 0\n",
    "start_weekday = 0\n",
    "k = 100000\n",
    "sigma_office_vals = [0.5]\n",
    "p_spread_family_vals = [0.37]\n",
    "p_spread_school_vals = [0.2, 0.22, 0.24]\n",
    "p_spread_office_vals = [0.2, 0.22, 0.24]\n",
    "p_detect_child_vals = [0.2]\n",
    "p_detect_parent_vals = [0.5]\n",
    "p_testing_vals = [0.5]\n",
    "perc_split_classes = 0.5\n",
    "\n",
    "results = {}\n",
    "\n",
    "starttime = time.time()\n",
    "for sigma_office in sigma_office_vals:\n",
    "    epsim_graph = EpsimGraph(k, sigma_office, perc_split_classes)\n",
    "    sim = Epsim()\n",
    "    sim.init_from_dicts(epsim_graph.family_nbrs, epsim_graph.school_nbrs_standard,\n",
    "                        epsim_graph.school_nbrs_split, epsim_graph.office_nbrs)\n",
    "    for p_spread_family in p_spread_family_vals:\n",
    "        for p_detect_child in p_detect_child_vals:\n",
    "            for p_detect_parent in p_detect_parent_vals:\n",
    "                for p_testing in p_testing_vals:\n",
    "                    for p_spread_school in p_spread_school_vals:\n",
    "                        for p_spread_office in p_spread_office_vals:\n",
    "                            export_csv = Path(f'csv/p1_{p_spread_family}_p2_{p_spread_school}.csv')\n",
    "                            sim_res = sim.run_sim(sim_iters, num_start_nodes, num_immunized_nodes, start_weekday, p_spread_family,\n",
    "                                                  p_spread_school, p_spread_office, p_detect_child, p_detect_parent, p_testing, export_csv=export_csv)\n",
    "                            results[sigma_office, p_spread_family, p_detect_child, p_detect_parent, p_testing, p_spread_school, \\\n",
    "                                    p_spread_office] = sim_res\n",
    "\n",
    "print(f\"runtime: {time.time() - starttime}s\")"
   ]
  },
  {
   "cell_type": "code",
   "execution_count": null,
   "metadata": {
    "scrolled": false
   },
   "outputs": [],
   "source": [
    "# Plot various parameter runs\n",
    "\n",
    "plt.rcParams.update({'font.size': 15})\n",
    "\n",
    "for sigma_office in sigma_office_vals:\n",
    "    for p_spread_family in p_spread_family_vals:\n",
    "        for p_detect_child in p_detect_child_vals:\n",
    "            for p_detect_parent in p_detect_parent_vals:\n",
    "                for p_testing in p_testing_vals:\n",
    "                    for p_spread_office in p_spread_office_vals:\n",
    "                        fig, axs = plt.subplots(figsize=(20,13))\n",
    "                        fig.patch.set_facecolor('xkcd:white')\n",
    "                        axs.set_ylim(top=200000)\n",
    "                        axs.set_xlim(0, sim_iters)\n",
    "                        for p_spread_school in p_spread_school_vals:\n",
    "                            result = results[sigma_office, p_spread_family, p_detect_child, p_detect_parent, p_testing, \\ \n",
    "                                             p_spread_school, p_spread_office]\n",
    "                            axs.plot(range(len(result)), result, label=p_spread_school)\n",
    "                            plt.annotate(max(result), xy=(1, max(result)), xytext=(8, 0),\n",
    "                                        xycoords=('axes fraction', 'data'), textcoords='offset points')\n",
    "                        axs.set_title(f\"p_spread_family={p_spread_family}\")\n",
    "                        axs.set_xlabel(\"Rounds\")\n",
    "                        axs.set_ylabel(\"Infected Nodes\")\n",
    "                        text_fixed = f\"sigma_office={sigma_office}, p_detect_child={p_detect_child}, \" \\\n",
    "                                     + f\"p_detect_parent={p_detect_parent}, p_testing={p_testing}, p_spread_office={p_spread_office}\"\n",
    "                        axs.text(0.18, -0.09, text_fixed, transform=axs.transAxes)\n",
    "                        axs.text(0.18, -0.138, 'p_spread_school =', transform=axs.transAxes)                   \n",
    "                        axs.legend(loc='upper center', bbox_to_anchor=(0.5, -0.1), ncol=6)"
   ]
  },
  {
   "cell_type": "code",
   "execution_count": null,
   "metadata": {},
   "outputs": [],
   "source": []
  }
 ],
 "metadata": {
  "kernelspec": {
   "display_name": "Python 3",
   "language": "python",
   "name": "python3"
  },
  "language_info": {
   "codemirror_mode": {
    "name": "ipython",
    "version": 3
   },
   "file_extension": ".py",
   "mimetype": "text/x-python",
   "name": "python",
   "nbconvert_exporter": "python",
   "pygments_lexer": "ipython3",
   "version": "3.9.5-final"
  }
 },
 "nbformat": 4,
 "nbformat_minor": 2
}