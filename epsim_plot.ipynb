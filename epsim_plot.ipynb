{
 "cells": [
  {
   "cell_type": "markdown",
   "metadata": {},
   "source": [
    "# Epsim execution / plotting"
   ]
  },
  {
   "cell_type": "code",
   "execution_count": null,
   "metadata": {},
   "outputs": [],
   "source": [
    "import time\n",
    "import numpy as np\n",
    "import matplotlib.pyplot as plt\n",
    "import pickle\n",
    "import itertools\n",
    "from pathlib import Path\n",
    "from gengraph import EpsimGraph\n",
    "from epsim import Epsim\n",
    "from read_building_csv import read_building_csv"
   ]
  },
  {
   "cell_type": "code",
   "execution_count": null,
   "metadata": {},
   "outputs": [],
   "source": [
    "def get_cumulative(sim_result, prop, rnds):\n",
    "    if isinstance(sim_result[0][prop], tuple):\n",
    "        return tuple(map(sum, zip(*[sim_result[rnd][prop] for rnd in rnds])))\n",
    "    else:\n",
    "        return sum([sim_result[rnd][prop] for rnd in rnds])\n",
    "\n",
    "\n",
    "def write_csv(file_path, sim_result):\n",
    "    with open(file_path, 'w') as f:\n",
    "        f.write(\"round\")\n",
    "        for i in range(len(sim_result[0]['states'])):\n",
    "            f.write(f\",state_{i}\")\n",
    "        for key in sim_result[0].keys():\n",
    "            if key != 'states':\n",
    "                f.write(f\",{key}\")\n",
    "        f.write(\"\\n\")\n",
    "\n",
    "        for rnd, info in enumerate(sim_result):\n",
    "            f.write(f\"{rnd}\")\n",
    "            for num in info['states']:\n",
    "                f.write(f\",{num}\")\n",
    "            for key, val in info.items():\n",
    "                if key != 'states':\n",
    "                    f.write(f\",{val}\")\n",
    "            f.write(\"\\n\")\n",
    "\n",
    "\n",
    "def mean_states_per_round_over_runs(runs):\n",
    "    rnd_data_per_run = list(zip(*runs))  # convert dict to list: remove keys\n",
    "    mean_states_per_rnd_data = [np.mean(list(zip(*[list(run.values())[0] for run in rnd_data])), axis=1) \\\n",
    "                                for rnd_data in rnd_data_per_run]\n",
    "    return mean_states_per_rnd_data\n",
    "\n",
    "\n",
    "def mean_cumulative_over_runs(runs):\n",
    "    run_keys = list(runs[0][0].keys())\n",
    "    run_keys.remove('states')\n",
    "\n",
    "    cumulative_over_runs = [[get_cumulative(run, prop, range(len(run))) for prop in run_keys] for run in runs]\n",
    "    cumulative_mean = list(np.mean(list(zip(*cumulative_over_runs)), axis=1))\n",
    "\n",
    "    # readd keys\n",
    "    mean_dict = {prop: cumulative_mean[i] for i, prop in enumerate(run_keys)}\n",
    "\n",
    "    return mean_dict"
   ]
  },
  {
   "cell_type": "markdown",
   "metadata": {},
   "source": [
    "## Simple run\n",
    "as an example of how to use the API"
   ]
  },
  {
   "cell_type": "code",
   "execution_count": null,
   "metadata": {
    "tags": [
     "outputPrepend"
    ]
   },
   "outputs": [],
   "source": [
    "# Simple run\n",
    "\n",
    "starttime = time.time()\n",
    "epsim_graph = EpsimGraph(k=64000, sigma_office=0.5, perc_split_classes=0.0, print_progress=True)\n",
    "sim = Epsim(epsim_graph.family_nbrs, epsim_graph.school_nbrs_standard,\n",
    "            epsim_graph.school_nbrs_split, epsim_graph.office_nbrs)\n",
    "read_building_csv(sim, \"input_data/salzburg_buildings.csv\")\n",
    "sim_result = sim.run_sim(sim_iters=200, num_start_agents=100,\n",
    "                         perc_immune_agents={'children': 0.21, 'parents': 0.36}, start_weekday=0,\n",
    "                         p_spread_family_dict={0: 0.9435}, p_spread_school_dict={0: 0.51}, p_spread_office_dict={0: 0.544},\n",
    "                         p_detect_child_dict={0: 0.2}, p_detect_parent_dict={0: 0.5},\n",
    "                         testing_dict={0: {'pcr': {'p': 0.95, 'weekdays': [2]}}, 'antigen': {'p': 0.5, 'weekdays': [0, 4]}},\n",
    "                         omicron=True, split_stay_home=False, loc_infec_rate=0.12, \n",
    "                         avg_visit_times={'supermarket': 20, 'shop': 60, 'restaurant': 90, 'leisure': 120, 'nightlife': 240},\n",
    "                         need_minutes={'supermarket': 60, 'shop': 120, 'restaurant': 180, 'leisure': 600, 'nightlife': 480},\n",
    "                         contact_mult={'supermarket': 1, 'shop': 1, 'restaurant': 1, 'leisure': 1, 'nightlife': 1},\n",
    "                         print_progress=True)\n",
    "print(f\"runtime: {time.time() - starttime}s\")"
   ]
  },
  {
   "cell_type": "code",
   "execution_count": null,
   "metadata": {},
   "outputs": [],
   "source": [
    "# print sim statistics\n",
    "print(f\"total infected in supermarket: {get_cumulative(sim_result, 'infected_in_supermarket', range(len(sim_result)))}\")\n",
    "print(f\"total infected in shop: {get_cumulative(sim_result, 'infected_in_shop', range(len(sim_result)))}\")\n",
    "print(f\"total infected in restaurant: {get_cumulative(sim_result, 'infected_in_restaurant', range(len(sim_result)))}\")\n",
    "print(f\"total infected in leisure: {get_cumulative(sim_result, 'infected_in_leisure', range(len(sim_result)))}\")\n",
    "print(f\"total infected in nightlife: {get_cumulative(sim_result, 'infected_in_nightlife', range(len(sim_result)))}\")\n",
    "\n",
    "print(f\"total infected: {get_cumulative(sim_result, 'infected', range(len(sim_result)))}\")\n",
    "print(f\"total infected by children: {get_cumulative(sim_result, 'infected_by_children', range(len(sim_result)))}\")\n",
    "print(f\"total infected children: {get_cumulative(sim_result, 'infected_children', range(len(sim_result)))}\")\n",
    "if len(sim_result) > 50:\n",
    "    print(f\"infected first 50 rounds: {get_cumulative(sim_result, 'infected', range(50))}\")\n",
    "    print(f\"infected by children first 50 rounds: {get_cumulative(sim_result, 'infected_by_children', range(50))}\")\n",
    "    print(f\"infected children first 50 rounds: {get_cumulative(sim_result, 'infected_children', range(50))}\")"
   ]
  },
  {
   "cell_type": "markdown",
   "metadata": {},
   "source": [
    "## Multiple runs per parameter combination\n",
    "for plotting an averaged diagram of multiple runs to avoid outliners"
   ]
  },
  {
   "cell_type": "code",
   "execution_count": null,
   "metadata": {},
   "outputs": [],
   "source": [
    "# Define simulation parameters\n",
    "sim_iters = 100\n",
    "\n",
    "def gen_graph_run_sim(k, sigma_office, num_start_agents, perc_immune_agents, start_weekday, perc_split_classes,\n",
    "                      p_spread_family_dict, p_spread_school_dict, p_spread_office_dict, p_detect_child_dict, p_detect_parent_dict,\n",
    "                      testing_dict, omicron, split_stay_home, location_sim, loc_infec_rate, avg_visit_times, need_minutes, contact_mult):\n",
    "    epsim_graph = EpsimGraph(k, sigma_office, perc_split_classes)\n",
    "    sim = Epsim(epsim_graph.family_nbrs, epsim_graph.school_nbrs_standard, epsim_graph.school_nbrs_split,\n",
    "                epsim_graph.office_nbrs)\n",
    "    if location_sim:\n",
    "        print(\"location sim enabled\")\n",
    "        read_building_csv(sim, \"input_data/salzburg_buildings.csv\")\n",
    "    else:\n",
    "        print(\"location sim disabled\")\n",
    "    return sim.run_sim(sim_iters, num_start_agents, perc_immune_agents, start_weekday, p_spread_family_dict,\n",
    "                       p_spread_school_dict, p_spread_office_dict, p_detect_child_dict, p_detect_parent_dict, testing_dict, \n",
    "                       omicron, split_stay_home, loc_infec_rate, avg_visit_times, need_minutes, contact_mult)\n",
    "\n",
    "\n",
    "sim_params = {\n",
    "    'k': [64000],\n",
    "    'sigma_office': [0.5],\n",
    "    'num_start_agents': [100],\n",
    "    'perc_immune_agents': [tuple({'children': 0.21, 'parents': 0.36}.items())],\n",
    "    'start_weekday': [0],\n",
    "    'perc_split_classes': [0.0],\n",
    "    'p_spread_family_dict': [tuple({0: 0.9435}.items())],\n",
    "    'p_spread_school_dict': [tuple({0: 0.51}.items())],\n",
    "    'p_spread_office_dict': [tuple({0: 0.544}.items())],\n",
    "    'p_detect_child_dict': [tuple({0: 0.2}.items())],\n",
    "    'p_detect_parent_dict': [tuple({0: 0.5}.items())],\n",
    "    'testing_dict': [tuple({0: tuple({'pcr': tuple({'p': 0.95, 'weekdays': (2,)}.items()), \\\n",
    "                    'antigen': tuple({'p': 0.5, 'weekdays': (0, 4)}.items())}.items())}.items())],\n",
    "    'omicron': [True],\n",
    "    'split_stay_home': [False],\n",
    "    'location_sim': [True],\n",
    "    'loc_infec_rate': [0.07],\n",
    "    'avg_visit_times': [tuple({'supermarket': 20, 'shop': 60, 'restaurant': 90, 'leisure': 120, 'nightlife': 240}.items())],\n",
    "    'need_minutes': [tuple({'supermarket': 60, 'shop': 120, 'restaurant': 180, 'leisure': 600, 'nightlife': 480}.items())],\n",
    "    'contact_mult': [tuple({'supermarket': 1, 'shop': 1, 'restaurant': 1, 'leisure': 1, 'nightlife': 1}.items())]\n",
    "}\n",
    "\n",
    "param_combis = list(itertools.product(*sim_params.values()))"
   ]
  },
  {
   "cell_type": "code",
   "execution_count": null,
   "metadata": {},
   "outputs": [],
   "source": [
    "# Execute simulations: multiple runs per parameter combination\n",
    "\n",
    "num_runs = 2\n",
    "runs_per_param_combi = {pc: [gen_graph_run_sim(*pc) for i in range(num_runs)] for pc in param_combis}\n",
    "pickle.dump(runs_per_param_combi, open(\"runs_per_param_combi.p\", 'wb'))"
   ]
  },
  {
   "cell_type": "code",
   "execution_count": null,
   "metadata": {},
   "outputs": [],
   "source": [
    "# Plot mean infections per round over all runs of one parameter combination to avoid outliners\n",
    "\n",
    "plt.rcParams.update({'font.size': 15})\n",
    "\n",
    "for pc, runs in runs_per_param_combi.items():\n",
    "    params = dict(zip(sim_params, pc))\n",
    "    print(params)\n",
    "    \n",
    "    mean_dict = mean_cumulative_over_runs(runs)\n",
    "    mean_infecs_per_rnd = [sum(states[1:]) for states in mean_states_per_round_over_runs(runs)]\n",
    "    \n",
    "    fig, axs = plt.subplots(figsize=(20,13))\n",
    "    fig.patch.set_facecolor('xkcd:white')\n",
    "    axs.set_ylim(top=152734)\n",
    "    axs.set_xlim(0, 100)\n",
    "    axs.plot(range(len(mean_infecs_per_rnd)), mean_infecs_per_rnd)\n",
    "    plt.annotate(152734, xy=(-0.065, 152734), xytext=(8, 0),\n",
    "                 xycoords=('axes fraction', 'data'), textcoords='offset points')\n",
    "    plt.annotate(int(max(mean_infecs_per_rnd)), xy=(1, int(max(mean_infecs_per_rnd))), xytext=(8, 0),\n",
    "                 xycoords=('axes fraction', 'data'), textcoords='offset points')\n",
    "    plt.annotate(int(min(mean_infecs_per_rnd)), xy=(0, int(min(mean_infecs_per_rnd))), xytext=(8, 0),\n",
    "                 xycoords=('axes fraction', 'data'), textcoords='offset points')\n",
    "    axs.set_xlabel(\"Rounds\")\n",
    "    axs.set_ylabel(f\"Infected agents (mean of {num_runs} runs)\")\n",
    "\n",
    "    axs.set_title(f\"Omicron Variant (p_spread_school={params['p_spread_school_dict'][0]}, \" \\\n",
    "                  + f\"p_spread_office={params['p_spread_office_dict'][0]})\")\n",
    "    text_params = f\"k={params['k']},  \" \\\n",
    "                 + f\"sigma_office={params['sigma_office']},  \" \\\n",
    "                 + f\"num_start_agents={params['num_start_agents']},  \" \\\n",
    "                 + f\"perc_immune_agents={params['perc_immune_agents']},  \" \\\n",
    "                 + f\"start_weekday={params['start_weekday']},\\n\" \\\n",
    "                 + f\"perc_split_classes={params['perc_split_classes']},  \" \\\n",
    "                 + f\"p_spread_family_dict={params['p_spread_family_dict']},  \" \\\n",
    "                 + f\"p_spread_school_dict={params['p_spread_school_dict']},  \" \\\n",
    "                 + f\"p_spread_office_dict={params['p_spread_office_dict']},\\n\" \\\n",
    "                 + f\"p_detect_child_dict={params['p_detect_child_dict']},  \" \\\n",
    "                 + f\"p_detect_parent_dict={params['p_detect_parent_dict']},  \\n\" \\\n",
    "                 + f\"testing_dict={params['testing_dict']},  \\n\" \\\n",
    "                 + f\"omicron={params['omicron']},  \" \\\n",
    "                 + f\"split_stay_home={params['split_stay_home']},  \" \\\n",
    "                 + f\"location_sim={params['location_sim']}, \" \\\n",
    "                 + f\"loc_infec_rate={params['loc_infec_rate']}, \\n\" \\\n",
    "                 + f\"avg_visit_times={params['avg_visit_times']}, \\n\" \\\n",
    "                 + f\"need_minutes={params['need_minutes']}, \\n\" \\\n",
    "                 + f\"contact_mult={params['contact_mult']}\"\n",
    "    axs.text(0, -0.33, text_params, transform=axs.transAxes, wrap=True, linespacing=1.5)\n",
    "    print(\"avg total persons:\")\n",
    "    for prop, val in mean_dict.items():\n",
    "        print(f\"\\t{prop}: {val}\")\n",
    "    plt.show()"
   ]
  },
  {
   "cell_type": "code",
   "execution_count": null,
   "metadata": {},
   "outputs": [],
   "source": [
    "# Write csv of mean values\n",
    "for pc, runs in runs_per_param_combi.items():\n",
    "    params = dict(zip(sim_params, pc))\n",
    "    path = Path(f\"csv/p_spread_school_{params['p_spread_school_dict'][0]}_p_spread_office_{params['p_spread_office_dict'][0]}.csv\")\n",
    "    write_csv(path, mean_of_runs(runs))"
   ]
  },
  {
   "cell_type": "code",
   "execution_count": null,
   "metadata": {},
   "outputs": [],
   "source": [
    "# Plot histogram of total infections for all runs of one parameter combination\n",
    "# This shows how much the total infections of different simulations with the same parameters deviatie due to\n",
    "# the randomness of the simulation\n",
    "\n",
    "plt.rcParams.update({'font.size': 12})\n",
    "\n",
    "for pc, runs in runs_per_param_combi.items():\n",
    "    print(dict(zip(sim_params, pc)))\n",
    "    total_infec_per_run = [sum(run[-1]['states'][1:]) for run in runs]\n",
    "    fig, axs = plt.subplots(figsize=(10,6))\n",
    "    fig.patch.set_facecolor('xkcd:white')\n",
    "    axs.set_xlabel(\"Total infected agents\")\n",
    "    axs.set_ylabel(\"# Runs\")\n",
    "    axs.hist(total_infec_per_run)\n",
    "    plt.show()\n",
    "    print()"
   ]
  },
  {
   "cell_type": "code",
   "execution_count": null,
   "metadata": {},
   "outputs": [],
   "source": []
  }
 ],
 "metadata": {
  "kernelspec": {
   "display_name": "Python 3 (ipykernel)",
   "language": "python",
   "name": "python3"
  },
  "language_info": {
   "codemirror_mode": {
    "name": "ipython",
    "version": 3
   },
   "file_extension": ".py",
   "mimetype": "text/x-python",
   "name": "python",
   "nbconvert_exporter": "python",
   "pygments_lexer": "ipython3",
   "version": "3.10.2"
  }
 },
 "nbformat": 4,
 "nbformat_minor": 2
}
