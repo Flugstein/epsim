{
 "cells": [
  {
   "cell_type": "markdown",
   "metadata": {},
   "source": [
    "# Epsim execution / plotting"
   ]
  },
  {
   "cell_type": "code",
   "execution_count": null,
   "metadata": {},
   "outputs": [],
   "source": [
    "import time\n",
    "import numpy as np\n",
    "import matplotlib.pyplot as plt\n",
    "import pickle\n",
    "import itertools\n",
    "from pathlib import Path\n",
    "from gengraph import EpsimGraph\n",
    "from epsim import Epsim"
   ]
  },
  {
   "cell_type": "code",
   "execution_count": null,
   "metadata": {},
   "outputs": [],
   "source": [
    "def get_cumulative(sim_result, prop, rnds):\n",
    "    return sum([sim_result[rnd][prop] for rnd in rnds])\n",
    "\n",
    "def write_csv(file_path, sim_result):\n",
    "    with open(file_path, 'w') as f:\n",
    "        f.write(\"round\")\n",
    "        for key in sim_result[0].keys():\n",
    "            f.write(f\",{key}\")\n",
    "        f.write(\"\\n\")\n",
    "\n",
    "        for rnd, info in enumerate(sim_result):\n",
    "            f.write(f\"{rnd}\")\n",
    "            for val in info.values():\n",
    "                f.write(f\",{val}\")\n",
    "            f.write(\"\\n\")\n",
    "            \n",
    "def mean_of_runs(runs):\n",
    "    run_keys = runs[0][0].keys()\n",
    "    # convert dict to list: remove keys\n",
    "    rnd_data_per_run = list(zip(*runs))\n",
    "    # compute mean over runs for every round statistic\n",
    "    mean_per_rnd_data = [np.mean(list(zip(*[run.values() for run in rnd_data])), axis=1) \\\n",
    "                         for rnd_data in rnd_data_per_run]\n",
    "    # reconvert list to dict: readd keys\n",
    "    mean_dict_per_rnd = [{key: rnd_data[i] for i, key in enumerate(run_keys)} for rnd_data in mean_per_rnd_data]\n",
    "    return mean_dict_per_rnd\n"
   ]
  },
  {
   "cell_type": "markdown",
   "metadata": {},
   "source": [
    "## Simple run\n",
    "for testing purposes"
   ]
  },
  {
   "cell_type": "code",
   "execution_count": null,
   "metadata": {
    "tags": [
     "outputPrepend"
    ]
   },
   "outputs": [],
   "source": [
    "# Simple run\n",
    "\n",
    "starttime = time.time()\n",
    "epsim_graph = EpsimGraph(k=100000, sigma_office=0.5, perc_split_classes=0.0, print_progress=True)\n",
    "sim = Epsim()\n",
    "sim.init_from_dicts(epsim_graph.family_nbrs, epsim_graph.school_nbrs_standard,\n",
    "                    epsim_graph.school_nbrs_split, epsim_graph.office_nbrs)\n",
    "sim_result = sim.run_sim(sim_iters=400, num_start_nodes=100, \\\n",
    "                         perc_immune_nodes={'children': 0.095, 'parents': 0.32}, start_weekday=0, \\\n",
    "                         p_spread_family=0.555, p_spread_school=0.3, p_spread_office=0.32, p_detect_child=0.2, \\\n",
    "                         p_detect_parent=0.5, p_testing={0: 0.5, 2: 0.95, 4: 0.5}, print_progress=True)\n",
    "print(f\"runtime: {time.time() - starttime}s\")"
   ]
  },
  {
   "cell_type": "code",
   "execution_count": null,
   "metadata": {},
   "outputs": [],
   "source": [
    "# print sim statistics\n",
    "print(f\"total infected: {get_cumulative(sim_result, 'infected', range(len(sim_result)))}\")\n",
    "print(f\"total infected by children: {get_cumulative(sim_result, 'infected_by_children', range(len(sim_result)))}\")\n",
    "print(f\"total infected children: {get_cumulative(sim_result, 'infected_children', range(len(sim_result)))}\")\n",
    "print(f\"infected first 50 rounds: {get_cumulative(sim_result, 'infected', range(50))}\")\n",
    "print(f\"infected by children first 50 rounds: {get_cumulative(sim_result, 'infected_by_children', range(50))}\")\n",
    "print(f\"infected children first 50 rounds: {get_cumulative(sim_result, 'infected_children', range(50))}\")"
   ]
  },
  {
   "cell_type": "markdown",
   "metadata": {},
   "source": [
    "## Multiple runs per parameter combination\n",
    "for plotting an averaged diagram of multiple runs to avoid outliners"
   ]
  },
  {
   "cell_type": "code",
   "execution_count": null,
   "metadata": {},
   "outputs": [],
   "source": [
    "# Define simulation parameters\n",
    "sim_iters = 400\n",
    "\n",
    "def gen_graph_run_sim(k, sigma_office, num_start_nodes, perc_immune_nodes, start_weekday, perc_split_classes, \n",
    "                      p_spread_family, p_spread_school, p_spread_office, p_detect_child, p_detect_parent, p_testing):\n",
    "    epsim_graph = EpsimGraph(k, sigma_office, perc_split_classes)\n",
    "    sim = Epsim()\n",
    "    sim.init_from_dicts(epsim_graph.family_nbrs, epsim_graph.school_nbrs_standard, epsim_graph.school_nbrs_split,\n",
    "                        epsim_graph.office_nbrs)\n",
    "    return sim.run_sim(sim_iters, num_start_nodes, perc_immune_nodes, start_weekday, p_spread_family,\n",
    "                       p_spread_school, p_spread_office, p_detect_child, p_detect_parent, p_testing)\n",
    "\n",
    "\n",
    "sim_params = {\n",
    "    'k': [100000],\n",
    "    'sigma_office': [0.5],\n",
    "    'num_start_nodes': [100],\n",
    "    'perc_immune_nodes': [tuple({'children': 0.095, 'parents': 0.32}.items())],\n",
    "    'start_weekday': [0],\n",
    "    'perc_split_classes': [0.0],\n",
    "    'p_spread_family': [0.555],\n",
    "    'p_spread_school': [0.3],\n",
    "    'p_spread_office': [0.32],\n",
    "    'p_detect_child': [0.2],\n",
    "    'p_detect_parent': [0.5],\n",
    "    'p_testing': [tuple({0: 0.5, 2: 0.95, 4: 0.5}.items())]\n",
    "}\n",
    "\n",
    "param_combis = list(itertools.product(*sim_params.values()))"
   ]
  },
  {
   "cell_type": "code",
   "execution_count": null,
   "metadata": {},
   "outputs": [],
   "source": [
    "# Execute simulations: multiple runs per parameter combination\n",
    "\n",
    "num_runs = 100\n",
    "runs_per_param_combi = {pc: [gen_graph_run_sim(*pc) for i in range(num_runs)] for pc in param_combis}\n",
    "pickle.dump(runs_per_param_combi, open(\"runs_per_param_combi.p\", 'wb'))"
   ]
  },
  {
   "cell_type": "code",
   "execution_count": null,
   "metadata": {},
   "outputs": [],
   "source": [
    "# Plot mean infections per round over all runs of one parameter combination to avoid outliners\n",
    "\n",
    "plt.rcParams.update({'font.size': 15})\n",
    "\n",
    "for pc, runs in runs_per_param_combi.items():\n",
    "    params = dict(zip(sim_params, pc))\n",
    "    print(params)\n",
    "    \n",
    "    mean_dict_per_rnd = mean_of_runs(runs)\n",
    "    \n",
    "    mean_infecs_per_rnd = [rnd_dict['state_1']+rnd_dict['state_2']+rnd_dict['state_3']+rnd_dict['state_4'] \\\n",
    "                           +rnd_dict['state_5']+rnd_dict['state_6'] for rnd_dict in mean_dict_per_rnd]\n",
    "    total_infected = get_cumulative(mean_dict_per_rnd, 'infected', range(len(mean_dict_per_rnd)))\n",
    "    total_infected_by_children = get_cumulative(mean_dict_per_rnd, 'infected_by_children', \\\n",
    "                                                range(len(mean_dict_per_rnd)))\n",
    "    total_infected_children = get_cumulative(mean_dict_per_rnd, 'infected_children', range(len(mean_dict_per_rnd)))\n",
    "    average_infected_by_children = total_infected_by_children / total_infected_children\n",
    "    infected_by_children_first_50 = get_cumulative(mean_dict_per_rnd, 'infected_by_children', range(50))\n",
    "    infected_children_first_50 = get_cumulative(mean_dict_per_rnd, 'infected_children', range(50))\n",
    "    average_infected_by_children_first_50 = infected_by_children_first_50 / infected_children_first_50\n",
    "    \n",
    "    fig, axs = plt.subplots(figsize=(20,13))\n",
    "    fig.patch.set_facecolor('xkcd:white')\n",
    "    axs.set_ylim(top=238640)\n",
    "    axs.set_xlim(0, sim_iters)\n",
    "    axs.plot(range(sim_iters), mean_infecs_per_rnd)\n",
    "    plt.annotate(238640, xy=(-0.065, 238640), xytext=(8, 0),\n",
    "                 xycoords=('axes fraction', 'data'), textcoords='offset points')\n",
    "    plt.annotate(int(max(mean_infecs_per_rnd)), xy=(1, int(max(mean_infecs_per_rnd))), xytext=(8, 0),\n",
    "                 xycoords=('axes fraction', 'data'), textcoords='offset points')\n",
    "    plt.annotate(int(min(mean_infecs_per_rnd)), xy=(0, int(min(mean_infecs_per_rnd))), xytext=(8, 0),\n",
    "                 xycoords=('axes fraction', 'data'), textcoords='offset points')\n",
    "    axs.set_xlabel(\"Rounds\")\n",
    "    axs.set_ylabel(f\"Infected nodes (mean of {num_runs} runs)\")\n",
    "\n",
    "    axs.set_title(f\"Delta Variant (p_spread_school={params['p_spread_school']}, \" \\\n",
    "                  + f\"p_spread_office={params['p_spread_office']})\")\n",
    "    text_params = f\"k={params['k']},  \" \\\n",
    "                 + f\"sigma_office={params['sigma_office']},  \" \\\n",
    "                 + f\"num_start_nodes={params['num_start_nodes']},  \" \\\n",
    "                 + f\"perc_immune_nodes={params['perc_immune_nodes']},  \" \\\n",
    "                 + f\"start_weekday={params['start_weekday']},  \\n\" \\\n",
    "                 + f\"perc_split_classes={params['perc_split_classes']},  \" \\\n",
    "                 + f\"p_spread_family={params['p_spread_family']},  \" \\\n",
    "                 + f\"p_spread_school={params['p_spread_school']},  \" \\\n",
    "                 + f\"p_spread_office={params['p_spread_office']},  \" \\\n",
    "                 + f\"p_detect_child={params['p_detect_child']},  \" \\\n",
    "                 + f\"p_detect_parent={params['p_detect_parent']},  \\n\" \\\n",
    "                 + f\"p_testing={params['p_testing']}\"\n",
    "    axs.text(0, -0.14, text_params, transform=axs.transAxes, wrap=True)\n",
    "    axs.text(0, -0.18, \"Children in schools are tested on Mo, We, Fr.\", transform=axs.transAxes, wrap=True)\n",
    "    text_stats = f\"average persons infected by children: {average_infected_by_children}\\n\" \\\n",
    "                + f\"average persons infected by children first 50 rounds: {average_infected_by_children_first_50}\\n\"\n",
    "    axs.text(0, -0.26, text_stats, transform=axs.transAxes, wrap=True)\n",
    "\n",
    "    plt.show()"
   ]
  },
  {
   "cell_type": "code",
   "execution_count": null,
   "metadata": {},
   "outputs": [],
   "source": [
    "# Write csv of mean values\n",
    "for pc, runs in runs_per_param_combi.items():\n",
    "    params = dict(zip(sim_params, pc))\n",
    "    path = Path(f\"csv/p_spread_school_{params['p_spread_school']}_p_spread_office_{params['p_spread_office']}.csv\")\n",
    "    write_csv(path, mean_of_runs(runs))"
   ]
  },
  {
   "cell_type": "code",
   "execution_count": null,
   "metadata": {},
   "outputs": [],
   "source": [
    "# Plot histogram of total infections for all runs of one parameter combination\n",
    "# This shows how much the total infections of different simulations with the same parameters deviatie due to\n",
    "# the randomness of the simulation\n",
    "\n",
    "plt.rcParams.update({'font.size': 12})\n",
    "\n",
    "for pc, runs in runs_per_param_combi.items():\n",
    "    print(dict(zip(sim_params, pc)))\n",
    "    total_infec_per_run = [run[-1]['state_1']+run[-1]['state_2']+run[-1]['state_3']+run[-1]['state_4'] \\\n",
    "                           +run[-1]['state_5']+run[-1]['state_6'] for run in runs]\n",
    "    fig, axs = plt.subplots(figsize=(10,6))\n",
    "    fig.patch.set_facecolor('xkcd:white')\n",
    "    axs.set_xlabel(\"Total infected nodes\")\n",
    "    axs.set_ylabel(\"# Runs\")\n",
    "    axs.hist(total_infec_per_run)\n",
    "    plt.show()\n",
    "    print()"
   ]
  },
  {
   "cell_type": "code",
   "execution_count": null,
   "metadata": {},
   "outputs": [],
   "source": []
  }
 ],
 "metadata": {
  "kernelspec": {
   "display_name": "Python 3",
   "language": "python",
   "name": "python3"
  },
  "language_info": {
   "codemirror_mode": {
    "name": "ipython",
    "version": 3
   },
   "file_extension": ".py",
   "mimetype": "text/x-python",
   "name": "python",
   "nbconvert_exporter": "python",
   "pygments_lexer": "ipython3",
   "version": "3.9.7"
  }
 },
 "nbformat": 4,
 "nbformat_minor": 2
}
